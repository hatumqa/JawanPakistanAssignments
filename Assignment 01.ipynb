{
 "cells": [
  {
   "cell_type": "markdown",
   "id": "cd8389ee-0b2c-49d8-9809-263c5ee46470",
   "metadata": {},
   "source": [
    "1. What is the length of the salaries list."
   ]
  },
  {
   "cell_type": "code",
   "execution_count": 1,
   "id": "62fa6433-2b6e-4ffa-93c4-e62e0d4a486d",
   "metadata": {},
   "outputs": [],
   "source": [
    "salaries = ['20k', '40k', '50k', '60k', '35k', '89k','40k']"
   ]
  },
  {
   "cell_type": "code",
   "execution_count": 5,
   "id": "63b50ba1-b3a4-4881-a6bb-0867c6db81d7",
   "metadata": {},
   "outputs": [
    {
     "data": {
      "text/plain": [
       "7"
      ]
     },
     "execution_count": 5,
     "metadata": {},
     "output_type": "execute_result"
    }
   ],
   "source": [
    "len(salaries)"
   ]
  },
  {
   "cell_type": "markdown",
   "id": "6213958c-2b62-4295-b40a-b48704476adc",
   "metadata": {},
   "source": [
    "2. Retrieve the third salary in the list by using index."
   ]
  },
  {
   "cell_type": "code",
   "execution_count": 12,
   "id": "5b712f89-fd80-43ad-b76c-425004cc4c55",
   "metadata": {},
   "outputs": [
    {
     "data": {
      "text/plain": [
       "'60k'"
      ]
     },
     "execution_count": 12,
     "metadata": {},
     "output_type": "execute_result"
    }
   ],
   "source": [
    "salaries[3]"
   ]
  },
  {
   "cell_type": "markdown",
   "id": "7a1ecfa4-ae8e-4853-b75c-05405fbfd4ba",
   "metadata": {},
   "source": [
    "3. Extract the last salary from the list by using a negative index."
   ]
  },
  {
   "cell_type": "code",
   "execution_count": 14,
   "id": "7294662b-ffe9-486a-b90b-31dbc74bff86",
   "metadata": {},
   "outputs": [
    {
     "data": {
      "text/plain": [
       "'40k'"
      ]
     },
     "execution_count": 14,
     "metadata": {},
     "output_type": "execute_result"
    }
   ],
   "source": [
    "salaries[-1]"
   ]
  },
  {
   "cell_type": "markdown",
   "id": "8fca8ae6-df30-46e3-a21d-28191209b4f5",
   "metadata": {},
   "source": [
    "4. Slice the salaries list to get only the middle three salaries."
   ]
  },
  {
   "cell_type": "code",
   "execution_count": 18,
   "id": "0142151a-df90-4d37-9412-c2948b640bcd",
   "metadata": {},
   "outputs": [
    {
     "data": {
      "text/plain": [
       "['50k', '60k', '35k']"
      ]
     },
     "execution_count": 18,
     "metadata": {},
     "output_type": "execute_result"
    }
   ],
   "source": [
    "salaries[2:5]"
   ]
  },
  {
   "cell_type": "markdown",
   "id": "ee456005-3404-4dd9-9bac-ff4c110fab56",
   "metadata": {},
   "source": [
    "5. Add a new salary to the list, ‘100k’ by using append() method."
   ]
  },
  {
   "cell_type": "code",
   "execution_count": 20,
   "id": "19c9d8df-b7b7-4199-8f0c-63620774ab9e",
   "metadata": {},
   "outputs": [],
   "source": [
    "salaries.append('100K')"
   ]
  },
  {
   "cell_type": "code",
   "execution_count": 22,
   "id": "7d1788f3-66b9-44ca-8de7-069ef3c62748",
   "metadata": {},
   "outputs": [
    {
     "data": {
      "text/plain": [
       "['20k', '40k', '50k', '60k', '35k', '89k', '40k', '100K']"
      ]
     },
     "execution_count": 22,
     "metadata": {},
     "output_type": "execute_result"
    }
   ],
   "source": [
    "salaries"
   ]
  },
  {
   "cell_type": "markdown",
   "id": "52cd4a5d-35c5-4553-90d8-037822dd2198",
   "metadata": {},
   "source": [
    "6. Add a new salary to the list, ‘120k’ without method"
   ]
  },
  {
   "cell_type": "code",
   "execution_count": 39,
   "id": "bcd5694c-f28b-4324-bde2-8026a5330185",
   "metadata": {},
   "outputs": [],
   "source": [
    "salaries=['20k', '40k', '50k', '60k', '35k', '89k', '40k', '100K','120k']\n"
   ]
  },
  {
   "cell_type": "code",
   "execution_count": 41,
   "id": "df2b0d1b-ffba-4c61-9c50-4831e0391fb5",
   "metadata": {},
   "outputs": [
    {
     "data": {
      "text/plain": [
       "['20k', '40k', '50k', '60k', '35k', '89k', '40k', '100K', '120k']"
      ]
     },
     "execution_count": 41,
     "metadata": {},
     "output_type": "execute_result"
    }
   ],
   "source": [
    "salaries"
   ]
  },
  {
   "cell_type": "markdown",
   "id": "09891f7f-c5f1-47e5-b6ad-dfe370720b27",
   "metadata": {},
   "source": [
    "7. Replace the third salary in the list with '55k' and print the updated list."
   ]
  },
  {
   "cell_type": "code",
   "execution_count": 43,
   "id": "4302804d-5ef5-4060-a5ca-7313f421c23a",
   "metadata": {},
   "outputs": [],
   "source": [
    "salaries=['20k', '40k', '50k', '55k', '35k', '89k', '40k', '100K', '120k']"
   ]
  },
  {
   "cell_type": "code",
   "execution_count": 45,
   "id": "9d9c4e25-d1c2-4d59-8ade-a268403f50e4",
   "metadata": {},
   "outputs": [
    {
     "data": {
      "text/plain": [
       "['20k', '40k', '50k', '55k', '35k', '89k', '40k', '100K', '120k']"
      ]
     },
     "execution_count": 45,
     "metadata": {},
     "output_type": "execute_result"
    }
   ],
   "source": [
    "salaries"
   ]
  },
  {
   "cell_type": "markdown",
   "id": "96608800-5722-40ae-9850-74798dfadab5",
   "metadata": {},
   "source": [
    "8. Count how many times '40k' appears in the list."
   ]
  },
  {
   "cell_type": "code",
   "execution_count": 51,
   "id": "70a6c5df-0000-43d4-a372-a30e6ed70adf",
   "metadata": {},
   "outputs": [],
   "source": [
    "salaries=['20k', '40k', '50k', '55k', '35k', '89k', '40k', '100K', '120k']"
   ]
  },
  {
   "cell_type": "code",
   "execution_count": 53,
   "id": "1cc7f651-9819-4394-80b0-dd7bc382b0f6",
   "metadata": {},
   "outputs": [
    {
     "data": {
      "text/plain": [
       "2"
      ]
     },
     "execution_count": 53,
     "metadata": {},
     "output_type": "execute_result"
    }
   ],
   "source": [
    "salaries.count('40k')"
   ]
  },
  {
   "cell_type": "markdown",
   "id": "95d89eef-71d6-463e-a032-d58b89fbb19f",
   "metadata": {},
   "source": [
    "9. Insert a new salary at the second position."
   ]
  },
  {
   "cell_type": "code",
   "execution_count": 70,
   "id": "700c3790-379f-48b4-8108-778822f29d91",
   "metadata": {},
   "outputs": [
    {
     "name": "stdout",
     "output_type": "stream",
     "text": [
      "['20k', '145k', '40k', '130K', '90K', '90K', '50k', '55k', '35k', '89k', '40k', '100K', '120k']\n"
     ]
    }
   ],
   "source": [
    "salaries.insert(1,'145k')\n",
    "print(salaries)"
   ]
  },
  {
   "cell_type": "markdown",
   "id": "bd4ef60b-2075-4af5-9db2-d8de068045c8",
   "metadata": {},
   "source": [
    "10. Reverse the order of the salaries list with method."
   ]
  },
  {
   "cell_type": "code",
   "execution_count": 74,
   "id": "0e75a1b2-52c4-46a3-a178-c771faf0d52e",
   "metadata": {},
   "outputs": [
    {
     "name": "stdout",
     "output_type": "stream",
     "text": [
      "['120k', '100K', '40k', '89k', '35k', '55k', '50k', '90K', '90K', '130K', '40k', '145k', '20k']\n"
     ]
    }
   ],
   "source": [
    "salaries.reverse()\n",
    "print(salaries)"
   ]
  },
  {
   "cell_type": "markdown",
   "id": "a82000f2-e942-4f68-a8b7-4d6f714b7866",
   "metadata": {},
   "source": [
    "11. Reverse the order of the salaries list without method."
   ]
  },
  {
   "cell_type": "code",
   "execution_count": 78,
   "id": "7328e574-1798-4041-927c-9ff5a1d3385f",
   "metadata": {},
   "outputs": [],
   "source": [
    "salaries.reverse()"
   ]
  },
  {
   "cell_type": "code",
   "execution_count": 80,
   "id": "1530c8ae-d449-4b9d-adc9-1e0f8adc7e29",
   "metadata": {},
   "outputs": [
    {
     "data": {
      "text/plain": [
       "['20k',\n",
       " '145k',\n",
       " '40k',\n",
       " '130K',\n",
       " '90K',\n",
       " '90K',\n",
       " '50k',\n",
       " '55k',\n",
       " '35k',\n",
       " '89k',\n",
       " '40k',\n",
       " '100K',\n",
       " '120k']"
      ]
     },
     "execution_count": 80,
     "metadata": {},
     "output_type": "execute_result"
    }
   ],
   "source": [
    "salaries"
   ]
  }
 ],
 "metadata": {
  "kernelspec": {
   "display_name": "Python 3 (ipykernel)",
   "language": "python",
   "name": "python3"
  },
  "language_info": {
   "codemirror_mode": {
    "name": "ipython",
    "version": 3
   },
   "file_extension": ".py",
   "mimetype": "text/x-python",
   "name": "python",
   "nbconvert_exporter": "python",
   "pygments_lexer": "ipython3",
   "version": "3.12.7"
  }
 },
 "nbformat": 4,
 "nbformat_minor": 5
}
